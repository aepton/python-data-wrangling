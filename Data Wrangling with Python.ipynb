{
 "cells": [
  {
   "cell_type": "markdown",
   "metadata": {},
   "source": [
    "# Data wrangling\n",
    "\n",
    "### Who we are\n",
    "\n",
    "* Jackie Kazil ([@JackieKazil](https://twitter.com/jackiekazil)), author of the O'Reilly book [Data Wrangling with Python](http://shop.oreilly.com/product/0636920032861.do)\n",
    "* Abe Epton ([@aepton](https://twitter.com/aepton))\n",
    "\n",
    "### What we'll cover\n",
    "\n",
    "* Loading data\n",
    "* Transforming it\n",
    "* Storing it\n",
    "\n",
    "### How we'll do it\n",
    "\n",
    "We'll be working with a dataset, `contracts_data.csv` in the `data/` folder of the `python-data-wrangling` repository. It contains [contract data from USASpending.gov](https://www.usaspending.gov/DownloadCenter/Pages/DataDownload.aspx) from FY 2015 where Colorado was the recipient state. We'll use it to answer some real-life questions and provide examples."
   ]
  },
  {
   "cell_type": "markdown",
   "metadata": {},
   "source": [
    "## Loading data"
   ]
  },
  {
   "cell_type": "markdown",
   "metadata": {},
   "source": [
    "### Loading from CSVs"
   ]
  },
  {
   "cell_type": "markdown",
   "metadata": {},
   "source": [
    "The `agate` library (formerly `csvkit` and `journalism`), by former Chicago Tribune developer Chris Groskopf, was built with journalists handling CSVs in mind ([here's the documentation](https://agate.readthedocs.org/)). The fundamental unit in `agate` is the table, and there's a one-step method of creating a table from a CSV file:\n",
    "\n",
    "    data = agate.Table.from_csv('data.csv')\n",
    "   \n",
    "Our data is located in the `data/contracts_data.csv` file. Let's load it into an `agate` table and check out how the example works. Think about how you'd access a row's data. How would you answer a question like \"sum up all the values of a column in this spreadsheet?\""
   ]
  },
  {
   "cell_type": "code",
   "execution_count": null,
   "metadata": {
    "collapsed": false
   },
   "outputs": [],
   "source": [
    "import agate\n",
    "\n",
    "table = agate.Table.from_csv('data/contracts_data.csv')\n",
    "\n",
    "print table"
   ]
  },
  {
   "cell_type": "markdown",
   "metadata": {},
   "source": [
    "#### Preview the data\n",
    "\n",
    "Now, let's preview a few of the records to see what the data that we are going to be working with looks like. For this by iterating over the rows in the table. To access the rows we interate over `table.rows`. Since this is a big file, we are going to return the first few rows by slicing (ie `[:3]`) `table.rows`.\n",
    "\n",
    "To get all the columns headers, we use `row.keys()` for the each row. Then we iterate over each of those and output the column header, and then the corresponding value through a lookup (i.e. `row[column]`).\n",
    "\n",
    "Finally, the last line of dashes (`--------------------`) is a visual output for us to easily identify where one record ends and the next one begins."
   ]
  },
  {
   "cell_type": "code",
   "execution_count": null,
   "metadata": {
    "collapsed": false
   },
   "outputs": [],
   "source": [
    "for row in table.rows[:3]:\n",
    "    for column in row.keys():\n",
    "        print '%s: %s' % (column, row[column])\n",
    "    print '--------------------------------------------------------------'"
   ]
  },
  {
   "cell_type": "markdown",
   "metadata": {},
   "source": [
    "### A quick peek inside the data\n",
    "\n",
    "We can use the `print_table` function to just look at a few rows at a time, and within them, look at a few columns formatted to be readable by humans:"
   ]
  },
  {
   "cell_type": "code",
   "execution_count": null,
   "metadata": {
    "collapsed": false
   },
   "outputs": [],
   "source": [
    "table.print_table(max_columns=4, max_rows=10)"
   ]
  },
  {
   "cell_type": "markdown",
   "metadata": {},
   "source": [
    "#### Another way to load CSVs\n",
    "\n",
    "It's worth mentioning that there's another way to load data from a CSV: `csv.DictReader`. \n",
    "\n",
    "**What is the difference between agate & csv libraries?**\n",
    "* csv is a part of core Python, which means there are no addition libraries to install\n",
    "* agate is built on top of csv and adds additional features to handling data\n",
    "* csv provides direct access to features such as writing csvs\n",
    "* agate handles a few of the processing elements in the background with the ability to override, while csv will sometimes require explicit arguments to be passed for a file to load\n",
    "* agate provides features for data wrangling, which is why we are using it\n",
    "\n",
    "*Note: One is not better than the other. They have different uses with overlapping features.*\n",
    "\n",
    "Even though we are using agate, you should know how to import using the built-in csv library, because sometimes you just need to import a csv. To load a csv, we will use the `DictReader` method, which returns a list of dictionaries. Each dictionary is one row (or record) in the csv, with the header row (assuming there is one) converted into the dictionary's keys."
   ]
  },
  {
   "cell_type": "code",
   "execution_count": null,
   "metadata": {
    "collapsed": false
   },
   "outputs": [],
   "source": [
    "from csv import DictReader\n",
    "from pprint import pprint # Pprint give you a prettier output\n",
    "\n",
    "csv_data = []\n",
    "\n",
    "with open('data/contracts_data.csv') as datafile:\n",
    "    reader = DictReader(datafile)\n",
    "    for row in reader:\n",
    "        # each row is now a dict; each column in the CSV is a key in the dict\n",
    "        csv_data.append(row)\n",
    "\n",
    "print 'Found %d lines' % len(csv_data)\n",
    "\n",
    "# Let's preview the first record.\n",
    "pprint(csv_data[0])"
   ]
  },
  {
   "cell_type": "markdown",
   "metadata": {},
   "source": [
    "### Loading from JSON"
   ]
  },
  {
   "cell_type": "markdown",
   "metadata": {},
   "source": [
    "The `json` module includes two main methods: `loads` to load JSON data, and `dumps` to create JSON from Python objects. If you haven't worked with JSON before, it's a very convenient way of passing around data objects using pure text. \n",
    "\n",
    "`loads` just takes a single string of JSON-formatted data as an argument, and returns a Python object.\n",
    "\n",
    "    data = json.loads('{\"foo\":\"bar\"}')\n",
    "    print data['foo']\n",
    "\n",
    "displays `bar`.\n",
    "\n",
    "Let's apply this to our contracts data."
   ]
  },
  {
   "cell_type": "code",
   "execution_count": null,
   "metadata": {
    "collapsed": false
   },
   "outputs": [],
   "source": [
    "import json\n",
    "from pprint import pprint\n",
    "\n",
    "with open('data/contracts_data.json') as json_data:\n",
    "    data = json.load(json_data)\n",
    "\n",
    "# Let's preview the 4th record\n",
    "pprint(data[3])"
   ]
  },
  {
   "cell_type": "markdown",
   "metadata": {},
   "source": [
    "### Loading data from another sources"
   ]
  },
  {
   "cell_type": "markdown",
   "metadata": {},
   "source": [
    "#### XML, Excel, and other data formats\n",
    "There are mant different data formats that exist in the world. We are not going to cover them. Just know that there is a library almost all of them. For example to load XML, you might use [Element Tree](https://docs.python.org/2/library/xml.etree.elementtree.html) or [lxml](http://lxml.de/), and to load Excel data, you would use [openpyxl](https://openpyxl.readthedocs.org/en/2.3.3/) or [xlrd](https://secure.simplistix.co.uk/svn/xlrd/trunk/xlrd/doc/xlrd.html?p=4966).\n",
    "\n",
    "Sometimes libraries are clunky and horrible to use. For example, let's say you didn't like how the xlrd library to import Excel data worked. If you didn't have a lot of sheets in your Excel workbook to export, a way around this is to export is manually to CSV first. Besides the manual route, there are a host of tools online and on the commandline that convert data formats from one to another."
   ]
  },
  {
   "cell_type": "markdown",
   "metadata": {},
   "source": [
    "#### Loading from an API\n",
    "\n",
    "API stands for Application Programming Interface, but what does that mean? It is basically a end point available over the web for you to pick data up from. Before you try to gather data from an API by writing your own code, you should search for a library that does it for you. Larger, more well know APIs such as Twitter's API has [multiple libraries in Python](https://dev.twitter.com/overview/api/twitter-libraries#python). Somtimes these are written by the provider and sometimes by an outside party. \n",
    "\n",
    "If nothing exists, then use the [Requests library](http://docs.python-requests.org/en/master/) to hit the API end point to gather the data. The data will most likely be in one the formats already mentioned (i.e. JSON or CSV). Then you will save that locally and continue the loading process. \n",
    "\n",
    "**API Keys and tokens.** Some APIs have keys and also sometimes tokens to limit how much the user can pull data from the API and possibly track their usage. While this isn't covered, you will need to add a few steps to account for this. See the example below to see how this is done.\n",
    "\n",
    "```\n",
    "token = #Your Token\n",
    "headers = {'Authorization':'token %s' % token}\n",
    "r = requests.get(url, params=params, headers=headers)\n",
    "```\n",
    "\n",
    "**USA Spending API.** For the work that we have done so far, we have manually downloaded the data using [this form](https://www.usaspending.gov/DownloadCenter/Pages/DataDownload.aspx). However, USAspending.gov offers can API to retrieve the data. This is great when you want to lots of data and automate the retrival. \n",
    "\n",
    "First, *check the Internet* to see if a library exists to interact with the USA Spending API. If you don't find anything, check [PyPI](https://pypi.python.org/pypi) the repository for Python libraries. You will find that someone creating one for [USAspending.gov](https://pypi.python.org/pypi/usa_spending/1.1). At PyPI, you can see how it is used. However, for our example API interaction, we are going to use the Requests library, which is more generally applicable. \n",
    "\n",
    "USA Spending has 3 APIs:\n",
    "1. [Contracts](https://www.usaspending.gov/DownloadCenter/API/Pages/fpds.aspx)\n",
    "2. [Assistance - FAADS](https://www.usaspending.gov/DownloadCenter/API/Pages/faads.aspx)\n",
    "3. [Sub-Awards](https://www.usaspending.gov/DownloadCenter/API/Pages/FSRS.aspx)\n",
    "\n",
    "For our example, we will continue with contracts."
   ]
  },
  {
   "cell_type": "code",
   "execution_count": 37,
   "metadata": {
    "collapsed": false
   },
   "outputs": [
    {
     "name": "stdout",
     "output_type": "stream",
     "text": [
      "<Response [200]>\n"
     ]
    }
   ],
   "source": [
    "import requests\n",
    "\n",
    "# Example URL from API documentation page\n",
    "url = 'https://www.usaspending.gov/fpds/fpds.php?detail=b&fiscal_year=2015&stateCode=TX&max_records=10'\n",
    "response = requests.get(url)\n",
    "print response"
   ]
  },
  {
   "cell_type": "code",
   "execution_count": 40,
   "metadata": {
    "collapsed": false
   },
   "outputs": [
    {
     "name": "stdout",
     "output_type": "stream",
     "text": [
      "<?xml version=\"1.0\"?><usaspendingSearchResults xmlns:xsd=\"http://www.w3.org/2001/XMLSchema\" xmlns:xsi=\"http://www.w3.org/2001/XMLSchema-instance\" xmlns=\"http://www.usaspending.gov/schemas/\"><search_criteria><search_criterion field=\"detail\" value=\"b\" /><search_criterion field=\"fiscal_year\" value=\"2015\" /><search_criterion field=\"statecode\" value=\"TX\" /><search_criterion field=\"max_records\" value=\"10\" /><search_criterion field=\"sortby\" value=\"OBLIGATED_AMOUNT desc\" /><search_criterion field=\"records_from\" value=\"0\" /></search_criteria><result numFound=\"146496\" max_records=\"10\"><doc spendingCategory=\"Contracts\"><record_count>1</record_count><UniqueTransactionID>0</UniqueTransactionID><ContractPricing>N</ContractPricing><ContractingAgency>1700: DEPT OF THE NAVY</ContractingAgency><DUNSNumber>008016958</DUNSNumber><parentDUNSNumber>834951691</parentDUNSNumber><DateSigned>2014-11-21T00:00:00.000</DateSigned><ContractDescription>LRIP 8 PRODUCTION MODIFICATION</ContractDescription><ReasonForModification>A</ReasonForModification><DollarsObligated>4.120353E+09</DollarsObligated><ExtentCompeted>C</ExtentCompeted><FiscalYear>2015</FiscalYear><TransactionNumber>0</TransactionNumber><AgencyID>9700: DEPT OF DEFENSE</AgencyID><FundingAgency>1700</FundingAgency><ContractingAgencyCode>1700</ContractingAgencyCode><ModificationNumber>0</ModificationNumber><PSCCategoryCode>15</PSCCategoryCode><ParentRecipientOrCompanyName>LOCKHEED MARTIN CORPORATION</ParentRecipientOrCompanyName><PlaceofPerformanceCongDistrict>12</PlaceofPerformanceCongDistrict><PlaceofPerformanceState>TX: TEXAS</PlaceofPerformanceState><PlaceofPerformanceZipCode>76101</PlaceofPerformanceZipCode><PrincipalNAICSCode>336411</PrincipalNAICSCode><ProcurementInstrumentID>N0001913C0008</ProcurementInstrumentID><PrincipalPlaceCountyOrCity>FORT WORTH</PrincipalPlaceCountyOrCity><ProductorServiceCode>1510: AIRCRAFT, FIXED WING</ProductorServiceCode><ProgramSource>57</ProgramSource><ProgramSourceAccountCode>3010</ProgramSourceAccountCode><RecipientAddressLine123>1 LOCKHEED BLVD, , </RecipientAddressLine123><RecipientCity>FORT WORTH</RecipientCity><RecipientCongressionalDistrict>12</RecipientCongressionalDistrict><RecipientName>LOCKHEED MARTIN CORPORATION</RecipientName><RecipientOrContractorName>LOCKHEED MARTIN CORPORATION</RecipientOrContractorName><RecipientState>TX</RecipientState><RecipientZipCode>761083619</RecipientZipCode><TypeofSpending>C</TypeofSpending><VendorName>LOCKHEED MARTIN CORPORATION</VendorName></doc><doc spendingCategory=\"Contracts\"><record_count>2</record_count><UniqueTransactionID>0</UniqueTransactionID><TransactionStatus>F</TransactionStatus><AwardType>1</AwardType><ContractPricing>N</ContractPricing><ContractingAgency>1700: DEPT OF THE NAVY</ContractingAgency><DUNSNumber>106632750</DUNSNumber><DateSigned>2014-12-22T00:00:00.000</DateSigned><ContractDescription>LOT 19 FULL FUNDING</ContractDescription><ReasonForModification>C</ReasonForModification><DollarsObligated>1.16593114E+09</DollarsObligated><ExtentCompeted>C</ExtentCompeted><FiscalYear>2015</FiscalYear><TransactionNumber>0</TransactionNumber><AgencyID>9700: DEPT OF DEFENSE</AgencyID><FundingAgency>1700</FundingAgency><MajorAgency>V-22</MajorAgency><ContractingAgencyCode>1700</ContractingAgencyCode><MajorFundingAgency>V-22</MajorFundingAgency><ParentRecipientOrCompanyName>BELL BOEING JOINT PROJECT OFFICE</ParentRecipientOrCompanyName><PlaceofPerformanceCongDistrict>13</PlaceofPerformanceCongDistrict><PlaceofPerformanceState>TX: Texas</PlaceofPerformanceState><PlaceofPerformanceZipCode>79111</PlaceofPerformanceZipCode><PrincipalNAICSCode>336411</PrincipalNAICSCode><ProcurementInstrumentID>N0001912C2001</ProcurementInstrumentID><PrincipalPlaceCountyOrCity>AMARILLO                    </PrincipalPlaceCountyOrCity><ProductorServiceCode>1510: AIRCRAFT, FIXED WING</ProductorServiceCode><ProgramSource>17</ProgramSource><ProgramSourceAccountCode>1506</ProgramSourceAccountCode><RecipientAddressLine123>401 TILTROTOR DR PLANT A, , </RecipientAddressLine123><RecipientCity>AMARILLO</RecipientCity><RecipientCongressionalDistrict>13</RecipientCongressionalDistrict><RecipientName>BELL BOEING JOINT PROJECT OFFICE</RecipientName><RecipientOrContractorName>BELL BOEING JOINT PROJECT OFFICE</RecipientOrContractorName><RecipientState>TX</RecipientState><RecipientZipCode>79111</RecipientZipCode><TypeofSpending>C</TypeofSpending><TypeofTransaction>F</TypeofTransaction><VendorName>BELL BOEING JOINT PROJECT OFFICE</VendorName></doc><doc spendingCategory=\"Contracts\"><record_count>3</record_count><UniqueTransactionID>2</UniqueTransactionID><TransactionStatus>F</TransactionStatus><AwardType>1</AwardType><ContractPricing>Y</ContractPricing><ContractingAgency>2100: DEPT OF THE ARMY</ContractingAgency><DUNSNumber>794571448</DUNSNumber><DateSigned>2015-07-23T00:00:00.000</DateSigned><ContractDescription>ADD FY15 REQUIREMENT TO FY14 UCA, RE-ALLOCATE FY14 FUNDING, OBLIGATE TOTAL CONTRACT FUNDING TO 75 PERCENT OF NOT-TO-EXCEED PRICE, INCORPORATE KINGDOM OF SAUDI ARABIA AND QATAR DELIVERY CHANGES</ContractDescription><ReasonForModification>D</ReasonForModification><DollarsObligated>7.034088E+08</DollarsObligated><ExtentCompeted>C</ExtentCompeted><FiscalYear>2015</FiscalYear><TransactionNumber>2</TransactionNumber><AgencyID>9700: DEPT OF DEFENSE</AgencyID><FundingAgency>2100</FundingAgency><ContractingAgencyCode>2100</ContractingAgencyCode><PSCCategoryCode>14</PSCCategoryCode><ParentRecipientOrCompanyName>LOCKHEED MARTIN CORPORATION</ParentRecipientOrCompanyName><PlaceofPerformanceCongDistrict>33</PlaceofPerformanceCongDistrict><PlaceofPerformanceState>TX: Texas</PlaceofPerformanceState><PlaceofPerformanceZipCode>75051</PlaceofPerformanceZipCode><PrincipalNAICSCode>336419</PrincipalNAICSCode><ProcurementInstrumentID>W31P4Q14C0034</ProcurementInstrumentID><PrincipalPlaceCountyOrCity>GRAND PRAIRIE</PrincipalPlaceCountyOrCity><ProductorServiceCode>1420: GUIDED MISSILE COMPONENTS</ProductorServiceCode><ProgramSource>11</ProgramSource><ProgramSourceAccountCode>8242</ProgramSourceAccountCode><RecipientAddressLine123>1701 W MARSHALL DR, , </RecipientAddressLine123><RecipientCity>GRAND PRAIRIE</RecipientCity><RecipientCongressionalDistrict>33</RecipientCongressionalDistrict><RecipientName>LOCKHEED MARTIN CORPORATION</RecipientName><RecipientOrContractorName>LOCKHEED MARTIN CORPORATION</RecipientOrContractorName><RecipientState>TX</RecipientState><RecipientZipCode>75051</RecipientZipCode><TypeofSpending>C</TypeofSpending><TypeofTransaction>F</TypeofTransaction><VendorName>LOCKHEED MARTIN CORPORATION</VendorName></doc><doc spendingCategory=\"Contracts\"><record_count>4</record_count><UniqueTransactionID>0</UniqueTransactionID><TransactionStatus>F</TransactionStatus><AwardType>1</AwardType><ContractPricing>Y</ContractPricing><ContractingAgency>1700: DEPT OF THE NAVY</ContractingAgency><DUNSNumber>008016958</DUNSNumber><DateSigned>2015-07-14T00:00:00.000</DateSigned><ContractDescription>IGF::OT::IGF AWARD OF LRIP 8NA</ContractDescription><ReasonForModification>A</ReasonForModification><DollarsObligated>6.766887E+08</DollarsObligated><ExtentCompeted>C</ExtentCompeted><FiscalYear>2015</FiscalYear><TransactionNumber>0</TransactionNumber><AgencyID>9700: DEPT OF DEFENSE</AgencyID><FundingAgency>1700</FundingAgency><ContractingAgencyCode>1700</ContractingAgencyCode><PSCCategoryCode>15</PSCCategoryCode><ParentRecipientOrCompanyName>LOCKHEED MARTIN CORPORATION</ParentRecipientOrCompanyName><PlaceofPerformanceCongDistrict>12</PlaceofPerformanceCongDistrict><PlaceofPerformanceState>TX: Texas</PlaceofPerformanceState><PlaceofPerformanceZipCode>76108</PlaceofPerformanceZipCode><PrincipalNAICSCode>336411</PrincipalNAICSCode><ProcurementInstrumentID>N0001915C0031</ProcurementInstrumentID><PrincipalPlaceCountyOrCity>FORT WORTH</PrincipalPlaceCountyOrCity><ProductorServiceCode>1510: AIRCRAFT, FIXED WING</ProductorServiceCode><ProgramSource>17</ProgramSource><ProgramSourceAccountCode>1506</ProgramSourceAccountCode><RecipientAddressLine123>1 LOCKHEED BLVD, , </RecipientAddressLine123><RecipientCity>FORT WORTH</RecipientCity><RecipientCongressionalDistrict>12</RecipientCongressionalDistrict><RecipientName>LOCKHEED MARTIN CORPORATION</RecipientName><RecipientOrContractorName>LOCKHEED MARTIN CORPORATION</RecipientOrContractorName><RecipientState>TX</RecipientState><RecipientZipCode>76108</RecipientZipCode><TypeofSpending>C</TypeofSpending><TypeofTransaction>F</TypeofTransaction><VendorName>LOCKHEED MARTIN CORPORATION</VendorName></doc><doc spendingCategory=\"Contracts\"><record_count>5</record_count><UniqueTransactionID>0</UniqueTransactionID><TransactionStatus>F</TransactionStatus><AwardType>1</AwardType><ContractPricing>N</ContractPricing><ContractingAgency>1700: DEPT OF THE NAVY</ContractingAgency><DUNSNumber>062923321</DUNSNumber><DateSigned>2015-08-25T00:00:00.000</DateSigned><ContractDescription>THE PURPOSE OF THIS MODIFICATION IS TO PROVIDE FUNDING FOR AND DEFINITIZE THE LOT 12 AAC CLINS, ESTABLISH LOT 13 PRICING, AND FUND 3 PAK FMS AIRCRAFT.</ContractDescription><ReasonForModification>B</ReasonForModification><DollarsObligated>5.811134E+08</DollarsObligated><ExtentCompeted>C</ExtentCompeted><FiscalYear>2015</FiscalYear><TransactionNumber>0</TransactionNumber><AgencyID>9700: DEPT OF DEFENSE</AgencyID><FundingAgency>1700</FundingAgency><ContractingAgencyCode>1700</ContractingAgencyCode><PSCCategoryCode>15</PSCCategoryCode><ParentRecipientOrCompanyName>TEXTRON INC.</ParentRecipientOrCompanyName><PlaceofPerformanceCongDistrict>24</PlaceofPerformanceCongDistrict><PlaceofPerformanceState>TX: Texas</PlaceofPerformanceState><PlaceofPerformanceZipCode>76053</PlaceofPerformanceZipCode><PrincipalNAICSCode>336411</PrincipalNAICSCode><ProcurementInstrumentID>N0001913C0023</ProcurementInstrumentID><PrincipalPlaceCountyOrCity>HURST</PrincipalPlaceCountyOrCity><ProductorServiceCode>1520: AIRCRAFT, ROTARY WING</ProductorServiceCode><ProgramSource>17</ProgramSource><ProgramSourceAccountCode>1506</ProgramSourceAccountCode><RecipientAddressLine123>600 EAST HURST BLVD, , </RecipientAddressLine123><RecipientCity>HURST</RecipientCity><RecipientCongressionalDistrict>24</RecipientCongressionalDistrict><RecipientName>BELL HELICOPTER TEXTRON INC.</RecipientName><RecipientOrContractorName>BELL HELICOPTER TEXTRON INC.</RecipientOrContractorName><RecipientState>TX</RecipientState><RecipientZipCode>76053</RecipientZipCode><TypeofSpending>C</TypeofSpending><TypeofTransaction>F</TypeofTransaction><VendorName>BELL HELICOPTER TEXTRON INC.</VendorName></doc><doc spendingCategory=\"Contracts\"><record_count>6</record_count><UniqueTransactionID>16</UniqueTransactionID><TransactionStatus>F</TransactionStatus><AwardType>1</AwardType><ContractPricing>N</ContractPricing><ContractingAgency>1700: DEPT OF THE NAVY</ContractingAgency><DUNSNumber>008016958</DUNSNumber><DateSigned>2015-06-04T00:00:00.000</DateSigned><ContractDescription>LRIP 10 AAC</ContractDescription><DollarsObligated>568247936</DollarsObligated><ExtentCompeted>C</ExtentCompeted><FiscalYear>2015</FiscalYear><TransactionNumber>16</TransactionNumber><AgencyID>9700: DEPT OF DEFENSE</AgencyID><FundingAgency>1700</FundingAgency><ContractingAgencyCode>1700</ContractingAgencyCode><PSCCategoryCode>15</PSCCategoryCode><ParentRecipientOrCompanyName>LOCKHEED MARTIN CORPORATION</ParentRecipientOrCompanyName><PlaceofPerformanceCongDistrict>33</PlaceofPerformanceCongDistrict><PlaceofPerformanceState>TX: Texas</PlaceofPerformanceState><PlaceofPerformanceZipCode>76106</PlaceofPerformanceZipCode><PrincipalNAICSCode>336411</PrincipalNAICSCode><ProcurementInstrumentID>N0001915C0003</ProcurementInstrumentID><PrincipalPlaceCountyOrCity>FORT WORTH                  </PrincipalPlaceCountyOrCity><ProductorServiceCode>1510: AIRCRAFT, FIXED WING</ProductorServiceCode><ProgramSource>57</ProgramSource><ProgramSourceAccountCode>3010</ProgramSourceAccountCode><RecipientAddressLine123>1 LOCKHEED BLVD, , </RecipientAddressLine123><RecipientCity>FORT WORTH</RecipientCity><RecipientCongressionalDistrict>12</RecipientCongressionalDistrict><RecipientName>LOCKHEED MARTIN CORPORATION</RecipientName><RecipientOrContractorName>LOCKHEED MARTIN CORPORATION</RecipientOrContractorName><RecipientState>TX</RecipientState><RecipientZipCode>76108</RecipientZipCode><TypeofSpending>C</TypeofSpending><TypeofTransaction>F</TypeofTransaction><VendorName>LOCKHEED MARTIN CORPORATION</VendorName></doc><doc spendingCategory=\"Contracts\"><record_count>7</record_count><UniqueTransactionID>0</UniqueTransactionID><ContractPricing>N</ContractPricing><ContractingAgency>1700: DEPT OF THE NAVY</ContractingAgency><DUNSNumber>008016958</DUNSNumber><parentDUNSNumber>834951691</parentDUNSNumber><DateSigned>2014-11-26T00:00:00.000</DateSigned><ContractDescription>THIS AWARD IS LRIP 7 NA TO PROCURE SUSTAINMENT ACTIVITY FOR JFS.</ContractDescription><ReasonForModification>A</ReasonForModification><DollarsObligated>4.920088E+08</DollarsObligated><ExtentCompeted>C</ExtentCompeted><FiscalYear>2015</FiscalYear><TransactionNumber>0</TransactionNumber><AgencyID>9700: DEPT OF DEFENSE</AgencyID><FundingAgency>1700</FundingAgency><ContractingAgencyCode>1700</ContractingAgencyCode><ModificationNumber>0</ModificationNumber><PSCCategoryCode>15</PSCCategoryCode><ParentRecipientOrCompanyName>LOCKHEED MARTIN CORPORATION</ParentRecipientOrCompanyName><PlaceofPerformanceCongDistrict>12</PlaceofPerformanceCongDistrict><PlaceofPerformanceState>TX: TEXAS</PlaceofPerformanceState><PlaceofPerformanceZipCode>76101</PlaceofPerformanceZipCode><PrincipalNAICSCode>336411</PrincipalNAICSCode><ProcurementInstrumentID>N0001912C0004</ProcurementInstrumentID><PrincipalPlaceCountyOrCity>FORT WORTH</PrincipalPlaceCountyOrCity><ProductorServiceCode>1510: AIRCRAFT, FIXED WING</ProductorServiceCode><ProgramSource>17</ProgramSource><ProgramSourceAccountCode>1804</ProgramSourceAccountCode><RecipientAddressLine123>1 LOCKHEED BLVD, , </RecipientAddressLine123><RecipientCity>FORT WORTH</RecipientCity><RecipientCongressionalDistrict>12</RecipientCongressionalDistrict><RecipientName>LOCKHEED MARTIN CORPORATION</RecipientName><RecipientOrContractorName>LOCKHEED MARTIN CORPORATION</RecipientOrContractorName><RecipientState>TX</RecipientState><RecipientZipCode>761083619</RecipientZipCode><TypeofSpending>C</TypeofSpending><VendorName>LOCKHEED MARTIN CORPORATION</VendorName></doc><doc spendingCategory=\"Contracts\"><record_count>8</record_count><UniqueTransactionID>2</UniqueTransactionID><ContractPricing>Y</ContractPricing><ContractingAgency>2100: DEPT OF THE ARMY</ContractingAgency><DUNSNumber>794571448</DUNSNumber><parentDUNSNumber>834951691</parentDUNSNumber><DateSigned>2014-10-14T00:00:00.000</DateSigned><ContractDescription>INCREASE FUNDING</ContractDescription><ReasonForModification>B</ReasonForModification><DollarsObligated>455140128</DollarsObligated><ExtentCompeted>C</ExtentCompeted><FiscalYear>2015</FiscalYear><TransactionNumber>2</TransactionNumber><AgencyID>9700: DEPT OF DEFENSE</AgencyID><FundingAgency>2100</FundingAgency><ContractingAgencyCode>2100</ContractingAgencyCode><ModificationNumber>0</ModificationNumber><PSCCategoryCode>14</PSCCategoryCode><ParentRecipientOrCompanyName>LOCKHEED MARTIN CORPORATION</ParentRecipientOrCompanyName><PlaceofPerformanceCongDistrict>33</PlaceofPerformanceCongDistrict><PlaceofPerformanceState>TX: TEXAS</PlaceofPerformanceState><PlaceofPerformanceZipCode>75051</PlaceofPerformanceZipCode><PrincipalNAICSCode>336419</PrincipalNAICSCode><ProcurementInstrumentID>W31P4Q14C0034</ProcurementInstrumentID><PrincipalPlaceCountyOrCity>GRAND PRAIRIE</PrincipalPlaceCountyOrCity><ProductorServiceCode>1420: GUIDED MISSILE COMPONENTS</ProductorServiceCode><ProgramSource>11</ProgramSource><ProgramSourceAccountCode>8242</ProgramSourceAccountCode><RecipientAddressLine123>1701 W MARSHALL DR, , </RecipientAddressLine123><RecipientCity>GRAND PRAIRIE</RecipientCity><RecipientCongressionalDistrict>33</RecipientCongressionalDistrict><RecipientName>LOCKHEED MARTIN CORPORATION</RecipientName><RecipientOrContractorName>LOCKHEED MARTIN CORPORATION</RecipientOrContractorName><RecipientState>TX</RecipientState><RecipientZipCode>750512704</RecipientZipCode><TypeofSpending>C</TypeofSpending><VendorName>LOCKHEED MARTIN CORPORATION</VendorName></doc><doc spendingCategory=\"Contracts\"><record_count>9</record_count><UniqueTransactionID>0</UniqueTransactionID><TransactionStatus>F</TransactionStatus><AwardType>1</AwardType><ContractPricing>Y</ContractPricing><ContractingAgency>1700: DEPT OF THE NAVY</ContractingAgency><DUNSNumber>008016958</DUNSNumber><DateSigned>2015-08-31T00:00:00.000</DateSigned><ContractDescription>LRIP 9 NON ANNUALIZED AWARD</ContractDescription><DollarsObligated>4.308785E+08</DollarsObligated><ExtentCompeted>C</ExtentCompeted><FiscalYear>2015</FiscalYear><TransactionNumber>0</TransactionNumber><AgencyID>9700: DEPT OF DEFENSE</AgencyID><FundingAgency>1700</FundingAgency><ContractingAgencyCode>1700</ContractingAgencyCode><PSCCategoryCode>15</PSCCategoryCode><ParentRecipientOrCompanyName>LOCKHEED MARTIN CORPORATION</ParentRecipientOrCompanyName><PlaceofPerformanceCongDistrict>12</PlaceofPerformanceCongDistrict><PlaceofPerformanceState>TX: Texas</PlaceofPerformanceState><PlaceofPerformanceZipCode>76108</PlaceofPerformanceZipCode><PrincipalNAICSCode>336411</PrincipalNAICSCode><ProcurementInstrumentID>N0001915C0114</ProcurementInstrumentID><PrincipalPlaceCountyOrCity>FORT WORTH</PrincipalPlaceCountyOrCity><ProductorServiceCode>1510: AIRCRAFT, FIXED WING</ProductorServiceCode><ProgramSource>17</ProgramSource><ProgramSourceAccountCode>1506</ProgramSourceAccountCode><RecipientAddressLine123>1 LOCKHEED BLVD, , </RecipientAddressLine123><RecipientCity>FORT WORTH</RecipientCity><RecipientCongressionalDistrict>12</RecipientCongressionalDistrict><RecipientName>LOCKHEED MARTIN CORPORATION</RecipientName><RecipientOrContractorName>LOCKHEED MARTIN CORPORATION</RecipientOrContractorName><RecipientState>TX</RecipientState><RecipientZipCode>76108</RecipientZipCode><TypeofSpending>C</TypeofSpending><TypeofTransaction>F</TypeofTransaction><VendorName>LOCKHEED MARTIN CORPORATION</VendorName></doc><doc spendingCategory=\"Contracts\"><record_count>10</record_count><UniqueTransactionID>16</UniqueTransactionID><TransactionStatus>F</TransactionStatus><AwardType>1</AwardType><ContractPricing>N</ContractPricing><ContractingAgency>1700: DEPT OF THE NAVY</ContractingAgency><DUNSNumber>008016958</DUNSNumber><DateSigned>2015-08-04T00:00:00.000</DateSigned><ContractDescription>THE PURPOSE OF THIS MODIFICATION IS TO INCORPORATE EFFORTS WITH THE LRIP 9 PRODUCTION NON-RECURRING SPECIAL TOOLING/ SPECIAL TEST EQUIPMENT&amp;MANUFACTURING SUPPORT EQUIPMENT.</ContractDescription><ReasonForModification>B</ReasonForModification><DollarsObligated>429647744</DollarsObligated><ExtentCompeted>C</ExtentCompeted><FiscalYear>2015</FiscalYear><TransactionNumber>16</TransactionNumber><AgencyID>9700: DEPT OF DEFENSE</AgencyID><FundingAgency>1700</FundingAgency><ContractingAgencyCode>1700</ContractingAgencyCode><PSCCategoryCode>15</PSCCategoryCode><ParentRecipientOrCompanyName>LOCKHEED MARTIN CORPORATION</ParentRecipientOrCompanyName><PlaceofPerformanceCongDistrict>12</PlaceofPerformanceCongDistrict><PlaceofPerformanceState>TX: Texas</PlaceofPerformanceState><PlaceofPerformanceZipCode>76108</PlaceofPerformanceZipCode><PrincipalNAICSCode>336411</PrincipalNAICSCode><ProcurementInstrumentID>N0001914C0002</ProcurementInstrumentID><PrincipalPlaceCountyOrCity>FORT WORTH</PrincipalPlaceCountyOrCity><ProductorServiceCode>1510: AIRCRAFT, FIXED WING</ProductorServiceCode><ProgramSource>97</ProgramSource><ProgramSourceAccountCode>8242</ProgramSourceAccountCode><ProgramSourceAgencyCode>000</ProgramSourceAgencyCode><RecipientAddressLine123>1 LOCKHEED BLVD, , </RecipientAddressLine123><RecipientCity>FORT WORTH</RecipientCity><RecipientCongressionalDistrict>12</RecipientCongressionalDistrict><RecipientName>LOCKHEED MARTIN CORPORATION</RecipientName><RecipientOrContractorName>LOCKHEED MARTIN CORPORATION</RecipientOrContractorName><RecipientState>TX</RecipientState><RecipientZipCode>76108</RecipientZipCode><TypeofSpending>C</TypeofSpending><TypeofTransaction>F</TypeofTransaction><VendorName>LOCKHEED MARTIN CORPORATION</VendorName></doc></result></usaspendingSearchResults>\n"
     ]
    }
   ],
   "source": [
    "print(response.content)"
   ]
  },
  {
   "cell_type": "code",
   "execution_count": 96,
   "metadata": {
    "collapsed": false
   },
   "outputs": [
    {
     "name": "stdout",
     "output_type": "stream",
     "text": [
      "{http://www.usaspending.gov/schemas/}search_criteria - {}\n",
      "{http://www.usaspending.gov/schemas/}result - {'max_records': '10', 'numFound': '146496'}\n"
     ]
    }
   ],
   "source": [
    "import xml.etree.ElementTree as ET\n",
    "root = ET.fromstring(response.content)\n",
    "\n",
    "for child in root:\n",
    "    print child.tag, '-', child.attrib"
   ]
  },
  {
   "cell_type": "code",
   "execution_count": 97,
   "metadata": {
    "collapsed": false
   },
   "outputs": [
    {
     "name": "stdout",
     "output_type": "stream",
     "text": [
      "<Element '{http://www.usaspending.gov/schemas/}doc' at 0x106d353d0>\n",
      "<Element '{http://www.usaspending.gov/schemas/}doc' at 0x106d432d0>\n",
      "<Element '{http://www.usaspending.gov/schemas/}doc' at 0x106d1d850>\n",
      "<Element '{http://www.usaspending.gov/schemas/}doc' at 0x106d10dd0>\n",
      "<Element '{http://www.usaspending.gov/schemas/}doc' at 0x106d026d0>\n",
      "<Element '{http://www.usaspending.gov/schemas/}doc' at 0x106ce9e10>\n",
      "<Element '{http://www.usaspending.gov/schemas/}doc' at 0x106dbe790>\n",
      "<Element '{http://www.usaspending.gov/schemas/}doc' at 0x106d99350>\n",
      "<Element '{http://www.usaspending.gov/schemas/}doc' at 0x106d99ed0>\n",
      "<Element '{http://www.usaspending.gov/schemas/}doc' at 0x106dbaad0>\n"
     ]
    }
   ],
   "source": [
    "results = root[1]\n",
    "for record in results:\n",
    "    print record"
   ]
  },
  {
   "cell_type": "code",
   "execution_count": 118,
   "metadata": {
    "collapsed": false
   },
   "outputs": [
    {
     "name": "stdout",
     "output_type": "stream",
     "text": [
      "{http://www.usaspending.gov/schemas/}record_count --- 1\n",
      "{http://www.usaspending.gov/schemas/}UniqueTransactionID --- 0\n",
      "{http://www.usaspending.gov/schemas/}ContractPricing --- N\n",
      "{http://www.usaspending.gov/schemas/}ContractingAgency --- 1700: DEPT OF THE NAVY\n",
      "{http://www.usaspending.gov/schemas/}DUNSNumber --- 008016958\n",
      "{http://www.usaspending.gov/schemas/}parentDUNSNumber --- 834951691\n",
      "{http://www.usaspending.gov/schemas/}DateSigned --- 2014-11-21T00:00:00.000\n",
      "{http://www.usaspending.gov/schemas/}ContractDescription --- LRIP 8 PRODUCTION MODIFICATION\n",
      "{http://www.usaspending.gov/schemas/}ReasonForModification --- A\n",
      "{http://www.usaspending.gov/schemas/}DollarsObligated --- 4.120353E+09\n",
      "{http://www.usaspending.gov/schemas/}ExtentCompeted --- C\n",
      "{http://www.usaspending.gov/schemas/}FiscalYear --- 2015\n",
      "{http://www.usaspending.gov/schemas/}TransactionNumber --- 0\n",
      "{http://www.usaspending.gov/schemas/}AgencyID --- 9700: DEPT OF DEFENSE\n",
      "{http://www.usaspending.gov/schemas/}FundingAgency --- 1700\n",
      "{http://www.usaspending.gov/schemas/}ContractingAgencyCode --- 1700\n",
      "{http://www.usaspending.gov/schemas/}ModificationNumber --- 0\n",
      "{http://www.usaspending.gov/schemas/}PSCCategoryCode --- 15\n",
      "{http://www.usaspending.gov/schemas/}ParentRecipientOrCompanyName --- LOCKHEED MARTIN CORPORATION\n",
      "{http://www.usaspending.gov/schemas/}PlaceofPerformanceCongDistrict --- 12\n",
      "{http://www.usaspending.gov/schemas/}PlaceofPerformanceState --- TX: TEXAS\n",
      "{http://www.usaspending.gov/schemas/}PlaceofPerformanceZipCode --- 76101\n",
      "{http://www.usaspending.gov/schemas/}PrincipalNAICSCode --- 336411\n",
      "{http://www.usaspending.gov/schemas/}ProcurementInstrumentID --- N0001913C0008\n",
      "{http://www.usaspending.gov/schemas/}PrincipalPlaceCountyOrCity --- FORT WORTH\n",
      "{http://www.usaspending.gov/schemas/}ProductorServiceCode --- 1510: AIRCRAFT, FIXED WING\n",
      "{http://www.usaspending.gov/schemas/}ProgramSource --- 57\n",
      "{http://www.usaspending.gov/schemas/}ProgramSourceAccountCode --- 3010\n",
      "{http://www.usaspending.gov/schemas/}RecipientAddressLine123 --- 1 LOCKHEED BLVD, , \n",
      "{http://www.usaspending.gov/schemas/}RecipientCity --- FORT WORTH\n",
      "{http://www.usaspending.gov/schemas/}RecipientCongressionalDistrict --- 12\n",
      "{http://www.usaspending.gov/schemas/}RecipientName --- LOCKHEED MARTIN CORPORATION\n",
      "{http://www.usaspending.gov/schemas/}RecipientOrContractorName --- LOCKHEED MARTIN CORPORATION\n",
      "{http://www.usaspending.gov/schemas/}RecipientState --- TX\n",
      "{http://www.usaspending.gov/schemas/}RecipientZipCode --- 761083619\n",
      "{http://www.usaspending.gov/schemas/}TypeofSpending --- C\n",
      "{http://www.usaspending.gov/schemas/}VendorName --- LOCKHEED MARTIN CORPORATION\n"
     ]
    }
   ],
   "source": [
    "# Let's look at the first record\n",
    "for record in results[:1]:\n",
    "    # Let's iterate over the colummns for the record and pull out the data\n",
    "    for column in record:\n",
    "        print column.tag, '---', column.text"
   ]
  },
  {
   "cell_type": "markdown",
   "metadata": {},
   "source": [
    "XML is a little more complicated to parse, so default to JSON or CSV when possible. This API doesn't make it possible. "
   ]
  },
  {
   "cell_type": "markdown",
   "metadata": {},
   "source": [
    "## Transforming data"
   ]
  },
  {
   "cell_type": "markdown",
   "metadata": {},
   "source": [
    "### Summing up a column of data"
   ]
  },
  {
   "cell_type": "markdown",
   "metadata": {},
   "source": [
    "As with many tasks in Python, this can be done in several ways. The `agate` library is great because it makes this trivially easy:"
   ]
  },
  {
   "cell_type": "code",
   "execution_count": null,
   "metadata": {
    "collapsed": false
   },
   "outputs": [],
   "source": [
    "table.aggregate(agate.Sum('dollarsobligated'))"
   ]
  },
  {
   "cell_type": "markdown",
   "metadata": {},
   "source": [
    "It's not much harder to do without `agate`, however. We can just initialize a counter, loop over each row, and update the counter:"
   ]
  },
  {
   "cell_type": "code",
   "execution_count": null,
   "metadata": {
    "collapsed": false
   },
   "outputs": [],
   "source": [
    "counter = 0\n",
    "\n",
    "for row in csv_data:\n",
    "    counter += float(row['dollarsobligated'])\n",
    "\n",
    "print 'Total is $%.2f' % counter"
   ]
  },
  {
   "cell_type": "markdown",
   "metadata": {},
   "source": [
    "You'll notice that we didn't simply do:\n",
    "\n",
    "    counter += row['dollarsobligated']\n",
    "\n",
    "This is because, in contrast to `agate` - which can automatically detect the column type based on the data inside it - `DictReader` assumes that every column in the csv file is a string. Adding two strings together, even strings only containing numbers, merely combines them:"
   ]
  },
  {
   "cell_type": "code",
   "execution_count": null,
   "metadata": {
    "collapsed": false
   },
   "outputs": [],
   "source": [
    "a = '123'\n",
    "b = '456'\n",
    "print a + b"
   ]
  },
  {
   "cell_type": "markdown",
   "metadata": {},
   "source": [
    "### Filtering rows of data"
   ]
  },
  {
   "cell_type": "markdown",
   "metadata": {},
   "source": [
    "The basic steps we'll take to filter our list of data won't be much different from what we did above, to compute the total of the `'dollarsobligated'` column. We create a new list to store our results, loop through the current list, and when we find a row that matches our criteria, we add it to the new list:"
   ]
  },
  {
   "cell_type": "code",
   "execution_count": null,
   "metadata": {
    "collapsed": false
   },
   "outputs": [],
   "source": [
    "filtered_list = []\n",
    "\n",
    "for row in csv_data:\n",
    "    if row['womenownedflag'] == 'Y':\n",
    "        filtered_list.append(row)\n",
    "\n",
    "print 'Found %d rows that match our criteria, out of all %d rows' % (len(filtered_list), len(csv_data))"
   ]
  },
  {
   "cell_type": "markdown",
   "metadata": {},
   "source": [
    "Of course this would be shorter in `agate`. But there's a shorter way in vanilla Python as well, using a very useful shorthand technique called list comprehensions:"
   ]
  },
  {
   "cell_type": "code",
   "execution_count": null,
   "metadata": {
    "collapsed": false
   },
   "outputs": [],
   "source": [
    "lc_filtered_list = [row for row in csv_data if row['womenownedflag'] == 'Y']\n",
    "\n",
    "print 'Found %d rows that match our criteria, out of all %d rows' % (len(lc_filtered_list), len(csv_data))"
   ]
  },
  {
   "cell_type": "markdown",
   "metadata": {},
   "source": [
    "If you don't feel comfortable with list comprehensions, don't worry - they're a useful shorthand, but they'll feel more intuitive once you've written enough Python loops to make your fingers bleed. They're not really doing anything different from our first example, and while they're cute and compact, they can be tricky once you need to do anything more than very basic stuff, like filtering based on a single criterion.\n",
    "\n",
    "Here's how you would accomplish the same filtering task in `agate`:"
   ]
  },
  {
   "cell_type": "code",
   "execution_count": null,
   "metadata": {
    "collapsed": false
   },
   "outputs": [],
   "source": [
    "agate_filtered_list = table.where(lambda row: row['womenownedflag'])\n",
    "\n",
    "print 'Found %d rows that match our criteria, out of all %d rows' % (len(agate_filtered_list.rows), len(table.rows))"
   ]
  },
  {
   "cell_type": "markdown",
   "metadata": {},
   "source": [
    "### Sorting rows of data"
   ]
  },
  {
   "cell_type": "markdown",
   "metadata": {
    "collapsed": true
   },
   "source": [
    "The `sorted` function takes a list and returns a sorted version. It expects an iterable, like a list, and by default will just compare every element to every other in order to alphabetically sort them.\n",
    "\n",
    "You can tell `sorted` how to compare two elements in the iterable, which allows us to get a version of `csv_data` sorted by vendor name in just one line:"
   ]
  },
  {
   "cell_type": "code",
   "execution_count": null,
   "metadata": {
    "collapsed": false
   },
   "outputs": [],
   "source": [
    "for row in sorted(csv_data, key=lambda row: row['vendorname']):\n",
    "    print row['vendorname']"
   ]
  },
  {
   "cell_type": "markdown",
   "metadata": {
    "collapsed": true
   },
   "source": [
    "The `agate` version of this is a bit more direct. `order_by` takes the name(s) of a column and returns a table; `select` filters a table by column(s)."
   ]
  },
  {
   "cell_type": "code",
   "execution_count": null,
   "metadata": {
    "collapsed": false
   },
   "outputs": [],
   "source": [
    "table.order_by('vendorname').select(['vendorname', 'dollarsobligated']).print_table(max_rows=10)"
   ]
  },
  {
   "cell_type": "markdown",
   "metadata": {},
   "source": [
    "### Geocoding addresses"
   ]
  },
  {
   "cell_type": "markdown",
   "metadata": {},
   "source": [
    "We'll be using the excellent library geopy ([docs](https://geopy.readthedocs.org/en/1.10.0/); run `pip install geopy` if you don't have it on your machine), which provides a common, simple interface to a variety of different geocoding services. It's worth noting that not all geocoding services work equally well, and they often have limits on how many requests you can make in a short amount of time. So if you're going to geocode a large number of addresses, you'll need to figure out which service is best for you."
   ]
  },
  {
   "cell_type": "markdown",
   "metadata": {},
   "source": [
    "To create an instance of a geocoder using a particular service, first import the appropriate class:\n",
    "\n",
    "    from geopy.geocoders import Nominatim\n",
    "\n",
    "Then create the instance:\n",
    "\n",
    "    geocoder = Nominatim()"
   ]
  },
  {
   "cell_type": "markdown",
   "metadata": {},
   "source": [
    "Once we have the geocoder instance created, using it is as simple as passing a string containing the address we're interested in:\n",
    "\n",
    "    location = geocoder.geocode(\"1701 California Street, Denver, CO\")\n",
    "\n",
    "And from there:\n",
    "\n",
    "    print location.latitude, location.longitude\n",
    "    \n",
    "Returns `39.7472023 -104.9904179`"
   ]
  },
  {
   "cell_type": "markdown",
   "metadata": {},
   "source": [
    "### For instance\n",
    "\n",
    "Let's create an instance of the Google geocoder, and use it to find the latitude and longitude of a couple of the vendors in our dataset. (Heads up: most geocoding services restrict heavy usage via IP addresses, so this classroom might get temporarily blocked and the examples may not work)."
   ]
  },
  {
   "cell_type": "code",
   "execution_count": null,
   "metadata": {
    "collapsed": false
   },
   "outputs": [],
   "source": [
    "from geopy.geocoders import GoogleV3\n",
    "\n",
    "geocoder = GoogleV3()\n",
    "\n",
    "for row in table.limit(10).rows:\n",
    "    address = ', '.join([\n",
    "            row['streetaddress'],\n",
    "            row['city'],\n",
    "            row['state'],\n",
    "            str(row['zipcode'])[0:5]])\n",
    "    coords = geocoder.geocode(address)\n",
    "\n",
    "    print 'Before', address\n",
    "    print 'After', coords.address, coords.latitude, coords.longitude\n",
    "    print '------'"
   ]
  },
  {
   "cell_type": "markdown",
   "metadata": {},
   "source": [
    "### Comparing dates and date strings "
   ]
  },
  {
   "cell_type": "markdown",
   "metadata": {},
   "source": [
    "The standard `datetime` module and the excellent [strftime.org cheat sheet](http://www.strftime.org) (seriously, bookmark it) make Python able to translate between a really delicious variety of date and time formats."
   ]
  },
  {
   "cell_type": "markdown",
   "metadata": {
    "collapsed": true
   },
   "source": [
    "To work with dates in our data, we first need to convert strings containing dates to actual date objects. To see why, let's ask the question: which of these dates comes first?"
   ]
  },
  {
   "cell_type": "code",
   "execution_count": null,
   "metadata": {
    "collapsed": false
   },
   "outputs": [],
   "source": [
    "older = '5-13-1989'\n",
    "newer = '2010-06-17'\n",
    "\n",
    "if older < newer:\n",
    "    print \"That's what I expect.\"\n",
    "else:\n",
    "    print \"Huh?\""
   ]
  },
  {
   "cell_type": "markdown",
   "metadata": {
    "collapsed": true
   },
   "source": [
    "This is because, when Python is comparing strings to each other (and both of the above dates, despite looking date-like, are just strings of text) it defaults to comparing them alphabetically. Does the first letter of string A come before the first letter of string B? If so, A < B.\n",
    "\n",
    "So, we need to tell Python how to convert our string of arbitrary text into a `datetime` object. Once we do that, we get all kinds of superpowers - we can add and subtract time from a date, compare dates to each other, adjust the timezone of our date, pull out just the month or year, determine what day of the week it was, and on and on.\n",
    "\n",
    "The `datetime` module provides several types of date-related classes we can use (in particular, `date`, `time` and `datetime`, which combines the first two) but for now we'll just rely on `datetime`. Annoyingly, `datetime` is both the name of a module, and the name of a class within that module, so we have to do dumb stuff like this:\n",
    "\n",
    "    from datetime import datetime\n",
    "\n",
    "Or\n",
    "\n",
    "    import datetime\n",
    "    datetime.datetime.now()\n",
    "\n",
    "I like the first one, myself. If we just wanted, say, `date` then we'd do:\n",
    "\n",
    "    from datetime import date\n",
    "\n",
    "Or\n",
    "\n",
    "    import datetime\n",
    "    datetime.date.today()\n",
    "\n",
    "Then we need to determine how to understand the date objects we're working with in our data (and this is where [strftime.org](http://www.strftime.org) is really useful). We do this by creating a format string, which tells datetime how our dates are structured.\n",
    "\n",
    "Take `older`, above. It's date is \"5-13-1989\": \"month hyphen day hyphen 4-digit year\". In the format string language that `datetime` uses, that translates to \"%m (month) hyphen %d (day) hyphen %Y (4-digit year)\". `datetime` expects that the format string will also tell it about any non-date characters, so we also have to include the hyphens in our format string. The end result will look like this:\n",
    "\n",
    "    format_string = '%m-%d-%Y'\n",
    "\n",
    "We then use the `strptime` function to create a `datetime` object from a string. We have to pass it both the string we'd like to convert, and the format string that tells us how to do so:\n",
    "\n",
    "    dt = datetime.strptime('5-13-1989', format_string)"
   ]
  },
  {
   "cell_type": "markdown",
   "metadata": {
    "collapsed": true
   },
   "source": [
    "### For instance\n",
    "\n",
    "Let's convert the dates below into `datetime` objects. For bonus points, try converting them into `date` objects. What did you have to do differently? When might one be preferred over the other?"
   ]
  },
  {
   "cell_type": "code",
   "execution_count": null,
   "metadata": {
    "collapsed": false
   },
   "outputs": [],
   "source": [
    "from datetime import datetime\n",
    "\n",
    "newer = '2010-06-17'\n",
    "print datetime.strptime(newer, '%Y-%m-%d')\n",
    "\n",
    "two_digit_year = '1/20/00'\n",
    "print datetime.strptime(two_digit_year, '%m/%d/%y')\n",
    "# Now you see why Y2K seemed like a big deal (does anyone even remember Y2K?) Why does it pick this date to convert to?\n",
    "\n",
    "crazy_text_having_variable = '2013 in June on day 12'\n",
    "print datetime.strptime(crazy_text_having_variable, '%Y in %B on day %d')"
   ]
  },
  {
   "cell_type": "markdown",
   "metadata": {},
   "source": [
    "## Storing data"
   ]
  },
  {
   "cell_type": "markdown",
   "metadata": {},
   "source": [
    "### Saving data as a CSV"
   ]
  },
  {
   "cell_type": "markdown",
   "metadata": {},
   "source": [
    "This will vary somewhat depending on what type of data you have, and in what form. Generally, I find that CSVs are best thought of as lists of dictionaries - each line in the file is an item in the list, and each line contains a dictionary's worth of data. For that reason, it's a good idea to coerce your data into a list of dictionaries (all with the same set of keys) before writing them to a file.\n",
    "\n",
    "We'll start with the non-`agate` version first, so you can see each step as it's happening. We'll use the `DictWriter` class, much as we used the `DictReader` class to read data in from a CSV."
   ]
  },
  {
   "cell_type": "code",
   "execution_count": null,
   "metadata": {
    "collapsed": false
   },
   "outputs": [],
   "source": [
    "from csv import DictWriter\n",
    "\n",
    "# First, open the file. Using the mode 'w+' means create the file if it doesn't exist,\n",
    "# and if it does exist, delete the file first.\n",
    "with open('data/new_file.csv', 'w+') as fh:\n",
    "    \n",
    "    # Next, create a DictWriter object, passing it two parameters: the file you've opened, and the column names to use\n",
    "    writer = DictWriter(fh, csv_data[0].keys())\n",
    "    \n",
    "    # Now, make sure to include a header row at the beginning of the file, so we can work with it later\n",
    "    writer.writeheader()\n",
    "    \n",
    "    # Finally, let's write every line in our data to the file\n",
    "    writer.writerows(csv_data)"
   ]
  },
  {
   "cell_type": "markdown",
   "metadata": {},
   "source": [
    "As you may have suspected, this is much quicker to write in `agate`. We really only need one line:"
   ]
  },
  {
   "cell_type": "code",
   "execution_count": null,
   "metadata": {
    "collapsed": true
   },
   "outputs": [],
   "source": [
    "table.to_csv('data/agate_new_file.csv')"
   ]
  },
  {
   "cell_type": "markdown",
   "metadata": {},
   "source": [
    "### Saving data as JSON"
   ]
  },
  {
   "cell_type": "markdown",
   "metadata": {},
   "source": [
    "The `json` module makes it as easy to write JSON as it is to read it. However, since JSON is a very verbose format, it can make for very large files. The `contracts_data.csv` file, above, is 1.4 MB (enough to fit on a floppy!) - but the exact same data, stored in JSON, is over three times larger - 4.6 MB.\n",
    "\n",
    "So it's worth considering for a moment whether storing data in JSON is what you really want to do. It's great for Javascript web apps, for instance, because it's highly flexible and self-documenting, and therefore easy for programs to read it and work with it. But, particularly if your data has a large number of columns, the size of your JSON files can get very large very quickly (because every single row will repeat the name of every single column, plus 4 \" characters and a : character).\n",
    "\n",
    "Another thing to keep in mind is that some datatypes can't be represented in JSON. For instance, `datetime` objects need to be converted to strings first; you'll get an error if you try to save a `datetime` in JSON directly.\n",
    "\n",
    "The `dumps` method of the `json` module is the exact opposite of the `loads` method we used above, to load JSON data. Think of `dumps` as meaning, \"DUMP to String\" and `loads` as meaning, \"LOAD from String\". Here, we just want to write one gigantic string to a file, "
   ]
  },
  {
   "cell_type": "code",
   "execution_count": null,
   "metadata": {
    "collapsed": true
   },
   "outputs": [],
   "source": [
    "import json\n",
    "\n",
    "with open('data/contracts_data.json', 'w+') as fh:\n",
    "    fh.write(json.dumps(csv_data))"
   ]
  },
  {
   "cell_type": "markdown",
   "metadata": {},
   "source": [
    "Once again, this is one line in `agate`:"
   ]
  },
  {
   "cell_type": "code",
   "execution_count": null,
   "metadata": {
    "collapsed": true
   },
   "outputs": [],
   "source": [
    "table.to_json('data/agate_new_file.json')"
   ]
  }
 ],
 "metadata": {
  "kernelspec": {
   "display_name": "Python 2",
   "language": "python",
   "name": "python2"
  },
  "language_info": {
   "codemirror_mode": {
    "name": "ipython",
    "version": 2
   },
   "file_extension": ".py",
   "mimetype": "text/x-python",
   "name": "python",
   "nbconvert_exporter": "python",
   "pygments_lexer": "ipython2",
   "version": "2.7.11"
  }
 },
 "nbformat": 4,
 "nbformat_minor": 0
}
