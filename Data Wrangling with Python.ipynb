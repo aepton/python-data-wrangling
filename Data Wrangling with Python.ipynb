{
 "cells": [
  {
   "cell_type": "markdown",
   "metadata": {},
   "source": [
    "# Data wrangling\n",
    "\n",
    "### What we'll cover\n",
    "\n",
    "* Loading data\n",
    "* Transforming it\n",
    "* Storing it\n",
    "\n",
    "### How we'll do it\n",
    "\n",
    "We'll be working with a dataset, **TODO**. We'll use it to answer some real-life questions, with examples before each step. The goal is to have you write code you can use as a reference later on, so we'll try to explain what's happening."
   ]
  },
  {
   "cell_type": "markdown",
   "metadata": {},
   "source": [
    "## Loading data"
   ]
  },
  {
   "cell_type": "markdown",
   "metadata": {},
   "source": [
    "### Loading from CSVs"
   ]
  },
  {
   "cell_type": "markdown",
   "metadata": {},
   "source": [
    "The `agate` library (formerly `csvkit` and `journalism`), by ex-Tribune developer Chris Groskopf, was built with journalists handling CSVs in mind ([here's the documentation](https://agate.readthedocs.org/)). The fundamental unit in `agate` is the table, and there's a one-step method of creating a table from a CSV file:\n",
    "\n",
    "    data = agate.Table.from_csv('data.csv')"
   ]
  },
  {
   "cell_type": "markdown",
   "metadata": {},
   "source": [
    "#### Your turn\n",
    "\n",
    "Load the data located in the **TODO** file into an `agate` table and check out how the example works. Think about how you'd access a row's data. How would you answer a question like \"sum up all the values of a column in this spreadsheet?\""
   ]
  },
  {
   "cell_type": "code",
   "execution_count": 1,
   "metadata": {
    "collapsed": false
   },
   "outputs": [],
   "source": [
    "import agate\n",
    "\n",
    "table = # Your loading code goes here\n",
    "\n",
    "for row in table.rows:\n",
    "    for column in row.columns:\n",
    "        print '%s: %s' % (column, row[column])"
   ]
  },
  {
   "cell_type": "markdown",
   "metadata": {},
   "source": [
    "It's worth mentioning that there's another way to load data from a CSV, and it may be more general-purpose: `csv.DictReader`. When you load a CSV file with `DictReader`, you'll get a list of dictionaries, one per line, with the header row (assuming there is one) converted into the dictionary's keys.\n",
    "\n",
    "    from csv import DictReader\n",
    "    \n",
    "    with open('data.csv') as fh:\n",
    "        reader = DictReader(fh)\n",
    "        for row in reader:\n",
    "            # row is now a dict\n",
    "            # row[column_name] = column_value"
   ]
  },
  {
   "cell_type": "markdown",
   "metadata": {},
   "source": [
    "### Loading from an API"
   ]
  },
  {
   "cell_type": "markdown",
   "metadata": {},
   "source": [
    "### Loading from JSON"
   ]
  },
  {
   "cell_type": "markdown",
   "metadata": {},
   "source": [
    "The `json` module includes two main methods: `loads` to load JSON data, and `dumps` to create JSON from python objects. If you haven't worked with JSON before, it's a very convenient way of passing around data objects using pure text. \n",
    "\n",
    "`loads` just takes a single string of JSON-formatted data as an argument, and returns a python object.\n",
    "\n",
    "    data = json.loads('{\"foo\":\"bar\"}')\n",
    "    print data['foo']\n",
    "\n",
    "displays `bar`."
   ]
  },
  {
   "cell_type": "markdown",
   "metadata": {},
   "source": [
    "#### Your turn\n",
    "\n",
    "Load the data located in the **TODO** file into a data object."
   ]
  },
  {
   "cell_type": "code",
   "execution_count": 2,
   "metadata": {
    "collapsed": true
   },
   "outputs": [],
   "source": [
    "import json"
   ]
  },
  {
   "cell_type": "markdown",
   "metadata": {},
   "source": [
    "## Transforming data"
   ]
  },
  {
   "cell_type": "markdown",
   "metadata": {},
   "source": [
    "### Summing up a column of data"
   ]
  },
  {
   "cell_type": "markdown",
   "metadata": {},
   "source": [
    "### Filtering rows of data"
   ]
  },
  {
   "cell_type": "markdown",
   "metadata": {},
   "source": [
    "### Sorting rows of data"
   ]
  },
  {
   "cell_type": "markdown",
   "metadata": {},
   "source": [
    "### String cleaning"
   ]
  },
  {
   "cell_type": "markdown",
   "metadata": {},
   "source": [
    "### Geocoding addresses"
   ]
  },
  {
   "cell_type": "markdown",
   "metadata": {},
   "source": [
    "We'll be using the excellent library geopy ([docs](https://geopy.readthedocs.org/en/1.10.0/); run `pip install geopy` if you don't have it on your machine), which provides a common, simple interface to a variety of different geocoding services. It's worth noting that not all geocoding services work equally well, and they often have limits on how many requests you can make in a short amount of time. So if you're going to geocode a large number of addresses, you'll need to figure out which service is best for you."
   ]
  },
  {
   "cell_type": "markdown",
   "metadata": {},
   "source": [
    "To create an instance of a geocoder using a particular service, first import the appropriate class:\n",
    "\n",
    "    from geopy.geocoders import Nominatim\n",
    "\n",
    "Then create the instance:\n",
    "\n",
    "    geocoder = Nominatim()"
   ]
  },
  {
   "cell_type": "markdown",
   "metadata": {},
   "source": [
    "Once we have the geocoder instance created, using it is as simple as passing a string containing the address we're interested in:\n",
    "\n",
    "    location = geocoder.geocode(\"1701 California Street, Denver, CO\")\n",
    "\n",
    "And from there:\n",
    "\n",
    "    print location.latitude, location.longitude\n",
    "    \n",
    "Returns `39.7472023 -104.9904179`"
   ]
  },
  {
   "cell_type": "markdown",
   "metadata": {},
   "source": [
    "### Your turn\n",
    "\n",
    "Create an instance of the Google geocoder, and use it to find the latitude and longitude of Molly Brown's house at 1340 Pennsylvania St in Denver **TODO: Should we make this more relevant to the story data?**. (Heads up: most geocoding services restrict heavy usage via IP addresses, so this classroom might get temporarily blocked and the examples may not work)."
   ]
  },
  {
   "cell_type": "code",
   "execution_count": null,
   "metadata": {
    "collapsed": true
   },
   "outputs": [],
   "source": [
    "from geopy.geocoders import"
   ]
  },
  {
   "cell_type": "markdown",
   "metadata": {},
   "source": [
    "### Comparing dates and date strings "
   ]
  },
  {
   "cell_type": "markdown",
   "metadata": {},
   "source": [
    "The standard `datetime` module and the excellent [strftime.org cheat sheet](http://www.strftime.org) (seriously, bookmark it) make python able to translate between a really delicious variety of date and time formats."
   ]
  },
  {
   "cell_type": "code",
   "execution_count": null,
   "metadata": {
    "collapsed": true
   },
   "outputs": [],
   "source": []
  },
  {
   "cell_type": "code",
   "execution_count": null,
   "metadata": {
    "collapsed": true
   },
   "outputs": [],
   "source": []
  },
  {
   "cell_type": "code",
   "execution_count": null,
   "metadata": {
    "collapsed": true
   },
   "outputs": [],
   "source": []
  },
  {
   "cell_type": "code",
   "execution_count": null,
   "metadata": {
    "collapsed": true
   },
   "outputs": [],
   "source": []
  },
  {
   "cell_type": "markdown",
   "metadata": {},
   "source": [
    "## Storing data"
   ]
  },
  {
   "cell_type": "markdown",
   "metadata": {},
   "source": [
    "### Saving data as a CSV"
   ]
  },
  {
   "cell_type": "markdown",
   "metadata": {},
   "source": [
    "### Saving data as JSON"
   ]
  },
  {
   "cell_type": "markdown",
   "metadata": {},
   "source": [
    "### Saving data to S3"
   ]
  }
 ],
 "metadata": {
  "kernelspec": {
   "display_name": "Python 2",
   "language": "python",
   "name": "python2"
  },
  "language_info": {
   "codemirror_mode": {
    "name": "ipython",
    "version": 2
   },
   "file_extension": ".py",
   "mimetype": "text/x-python",
   "name": "python",
   "nbconvert_exporter": "python",
   "pygments_lexer": "ipython2",
   "version": "2.7.8"
  }
 },
 "nbformat": 4,
 "nbformat_minor": 0
}
